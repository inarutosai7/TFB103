{
 "cells": [
  {
   "cell_type": "code",
   "execution_count": 2,
   "metadata": {
    "ExecuteTime": {
     "end_time": "2021-04-22T06:23:27.651761Z",
     "start_time": "2021-04-22T06:23:27.648663Z"
    }
   },
   "outputs": [],
   "source": [
    "from collections.abc import Iterator, Iterable\n",
    "# 檢驗 iterator 或 iterable"
   ]
  },
  {
   "cell_type": "markdown",
   "metadata": {
    "ExecuteTime": {
     "end_time": "2021-03-27T03:51:33.786419Z",
     "start_time": "2021-03-27T03:51:33.783774Z"
    }
   },
   "source": [
    "# lambda function (匿名函數)"
   ]
  },
  {
   "cell_type": "code",
   "execution_count": 1,
   "metadata": {
    "ExecuteTime": {
     "end_time": "2021-04-22T06:23:45.079237Z",
     "start_time": "2021-04-22T06:23:45.075369Z"
    }
   },
   "outputs": [
    {
     "name": "stdout",
     "output_type": "stream",
     "text": [
      "25\n"
     ]
    }
   ],
   "source": [
    "square = lambda x: x*x\n",
    "print(square(5))"
   ]
  },
  {
   "cell_type": "code",
   "execution_count": 2,
   "metadata": {
    "ExecuteTime": {
     "end_time": "2021-04-22T06:26:44.634033Z",
     "start_time": "2021-04-22T06:26:44.631435Z"
    }
   },
   "outputs": [],
   "source": [
    "def mod_two(x):\n",
    "    return x % 2"
   ]
  },
  {
   "cell_type": "code",
   "execution_count": 3,
   "metadata": {
    "ExecuteTime": {
     "end_time": "2021-04-22T06:26:51.411100Z",
     "start_time": "2021-04-22T06:26:51.407024Z"
    }
   },
   "outputs": [
    {
     "data": {
      "text/plain": [
       "[2, 4, 6, 8, 1, 3, 5, 7]"
      ]
     },
     "execution_count": 3,
     "metadata": {},
     "output_type": "execute_result"
    }
   ],
   "source": [
    "data = [1, 2, 3, 4, 5, 6, 7, 8]\n",
    "sorted(data, key=mod_two)"
   ]
  },
  {
   "cell_type": "markdown",
   "metadata": {
    "ExecuteTime": {
     "end_time": "2021-03-28T08:51:57.084506Z",
     "start_time": "2021-03-28T08:51:57.080453Z"
    }
   },
   "source": [
    "# filter"
   ]
  },
  {
   "cell_type": "code",
   "execution_count": 7,
   "metadata": {
    "ExecuteTime": {
     "end_time": "2021-04-22T06:31:48.687364Z",
     "start_time": "2021-04-22T06:31:48.684358Z"
    }
   },
   "outputs": [],
   "source": [
    "data = [1, 2, 3, 4, 5, 6, 7, 8]\n",
    "filter_data = filter(lambda x: x > 5, data)"
   ]
  },
  {
   "cell_type": "code",
   "execution_count": 5,
   "metadata": {},
   "outputs": [
    {
     "name": "stdout",
     "output_type": "stream",
     "text": [
      "[1, 3, 5, 7, 9]\n"
     ]
    }
   ],
   "source": [
    "my_list = [1,2,3,4,5,6,7,8,9,10]\n",
    "odd_list = list(filter(lambda x: (x % 2 == 1),my_list))\n",
    "print(odd_list)"
   ]
  },
  {
   "cell_type": "code",
   "execution_count": 8,
   "metadata": {
    "ExecuteTime": {
     "end_time": "2021-04-22T06:31:48.891638Z",
     "start_time": "2021-04-22T06:31:48.887780Z"
    }
   },
   "outputs": [
    {
     "data": {
      "text/plain": [
       "True"
      ]
     },
     "execution_count": 8,
     "metadata": {},
     "output_type": "execute_result"
    }
   ],
   "source": [
    "isinstance(filter_data, Iterator)"
   ]
  },
  {
   "cell_type": "code",
   "execution_count": 9,
   "metadata": {
    "ExecuteTime": {
     "end_time": "2021-04-22T06:31:49.130361Z",
     "start_time": "2021-04-22T06:31:49.126349Z"
    }
   },
   "outputs": [
    {
     "data": {
      "text/plain": [
       "[6, 7, 8]"
      ]
     },
     "execution_count": 9,
     "metadata": {},
     "output_type": "execute_result"
    }
   ],
   "source": [
    "list(filter_data)"
   ]
  },
  {
   "cell_type": "markdown",
   "metadata": {},
   "source": [
    "# map"
   ]
  },
  {
   "cell_type": "code",
   "execution_count": 19,
   "metadata": {
    "ExecuteTime": {
     "end_time": "2021-04-22T06:33:33.432632Z",
     "start_time": "2021-04-22T06:33:33.428130Z"
    }
   },
   "outputs": [
    {
     "data": {
      "text/plain": [
       "[1, 4, 9, 16, 25, 36, 49, 64]"
      ]
     },
     "execution_count": 19,
     "metadata": {},
     "output_type": "execute_result"
    }
   ],
   "source": [
    "map_data = []\n",
    "for x in data:\n",
    "    map_data.append(x**2)\n",
    "map_data"
   ]
  },
  {
   "cell_type": "code",
   "execution_count": 20,
   "metadata": {
    "ExecuteTime": {
     "end_time": "2021-04-22T06:33:55.944031Z",
     "start_time": "2021-04-22T06:33:55.940333Z"
    }
   },
   "outputs": [
    {
     "data": {
      "text/plain": [
       "[1, 4, 9, 16, 25, 36, 49, 64]"
      ]
     },
     "execution_count": 20,
     "metadata": {},
     "output_type": "execute_result"
    }
   ],
   "source": [
    "[x**2 for x in data]"
   ]
  },
  {
   "cell_type": "code",
   "execution_count": 11,
   "metadata": {
    "ExecuteTime": {
     "end_time": "2021-04-22T06:34:33.975971Z",
     "start_time": "2021-04-22T06:34:33.973420Z"
    }
   },
   "outputs": [
    {
     "data": {
      "text/plain": [
       "[1, 4, 9, 16, 25, 36, 49, 64]"
      ]
     },
     "execution_count": 11,
     "metadata": {},
     "output_type": "execute_result"
    }
   ],
   "source": [
    "data = [1, 2, 3, 4, 5, 6, 7, 8]\n",
    "map_data = map(lambda x: x**2, data)\n",
    "list(map_data)"
   ]
  },
  {
   "cell_type": "code",
   "execution_count": 22,
   "metadata": {
    "ExecuteTime": {
     "end_time": "2021-04-22T06:34:36.185062Z",
     "start_time": "2021-04-22T06:34:36.181563Z"
    }
   },
   "outputs": [
    {
     "data": {
      "text/plain": [
       "True"
      ]
     },
     "execution_count": 22,
     "metadata": {},
     "output_type": "execute_result"
    }
   ],
   "source": [
    "isinstance(map_data, Iterator)"
   ]
  },
  {
   "cell_type": "code",
   "execution_count": 23,
   "metadata": {
    "ExecuteTime": {
     "end_time": "2021-04-22T06:34:42.361009Z",
     "start_time": "2021-04-22T06:34:42.356439Z"
    }
   },
   "outputs": [
    {
     "data": {
      "text/plain": [
       "[1, 4, 9, 16, 25, 36, 49, 64]"
      ]
     },
     "execution_count": 23,
     "metadata": {},
     "output_type": "execute_result"
    }
   ],
   "source": [
    "list(map_data)"
   ]
  },
  {
   "cell_type": "markdown",
   "metadata": {},
   "source": [
    "# reduce"
   ]
  },
  {
   "cell_type": "code",
   "execution_count": 25,
   "metadata": {
    "ExecuteTime": {
     "end_time": "2021-04-22T06:37:14.330790Z",
     "start_time": "2021-04-22T06:37:14.328469Z"
    }
   },
   "outputs": [
    {
     "data": {
      "text/plain": [
       "36"
      ]
     },
     "execution_count": 25,
     "metadata": {},
     "output_type": "execute_result"
    }
   ],
   "source": [
    "from functools import reduce\n",
    "map_data = [1, 2, 3, 4, 5, 6, 7, 8]\n",
    "reduce(lambda now, next_: now + next_, map_data)"
   ]
  },
  {
   "cell_type": "code",
   "execution_count": 32,
   "metadata": {
    "ExecuteTime": {
     "end_time": "2021-04-22T06:41:08.231113Z",
     "start_time": "2021-04-22T06:41:08.226800Z"
    }
   },
   "outputs": [
    {
     "name": "stdout",
     "output_type": "stream",
     "text": [
      "204\n"
     ]
    }
   ],
   "source": [
    "from functools import reduce\n",
    "data = [1, 2, 3, 4, 5, 6, 7, 8]\n",
    "map_data = map(lambda x: x**2, data)\n",
    "#print(list(map_data))\n",
    "print(reduce(lambda now, next_: now + next_, map_data))"
   ]
  },
  {
   "cell_type": "code",
   "execution_count": 29,
   "metadata": {},
   "outputs": [
    {
     "data": {
      "text/plain": [
       "204"
      ]
     },
     "execution_count": 29,
     "metadata": {},
     "output_type": "execute_result"
    }
   ],
   "source": [
    "data = [1,2,3,4,5,6,7,8]\n",
    "map_data = [x**2 for x in data]\n",
    "max_len = len(map_data)\n",
    "answer = 0\n",
    "for x in map_data:\n",
    "    answer = answer +x\n",
    "answer"
   ]
  },
  {
   "cell_type": "markdown",
   "metadata": {},
   "source": [
    "# 練習"
   ]
  },
  {
   "cell_type": "code",
   "execution_count": 53,
   "metadata": {
    "ExecuteTime": {
     "end_time": "2021-04-22T06:49:06.989809Z",
     "start_time": "2021-04-22T06:49:06.985525Z"
    }
   },
   "outputs": [
    {
     "name": "stdout",
     "output_type": "stream",
     "text": [
      "given a number6\n"
     ]
    },
    {
     "data": {
      "text/plain": [
       "720"
      ]
     },
     "execution_count": 53,
     "metadata": {},
     "output_type": "execute_result"
    }
   ],
   "source": [
    "# N!\n",
    "# 5! = 5 * 4 * 3 * 2 * 1\n",
    "n = int(input('given a number'))\n",
    "def factorial(n):\n",
    "    answer = 1\n",
    "    for i in range(1,n+1):\n",
    "        answer *= i\n",
    "    return answer\n",
    "factorial(n)\n",
    "        "
   ]
  },
  {
   "cell_type": "code",
   "execution_count": 52,
   "metadata": {
    "ExecuteTime": {
     "end_time": "2021-04-22T07:03:34.763382Z",
     "start_time": "2021-04-22T07:03:34.760058Z"
    }
   },
   "outputs": [
    {
     "data": {
      "text/plain": [
       "[('Timothy', 'woodooo@yahoo.com.tw'), ('Ellna', 'ellna332@gmail.com')]"
      ]
     },
     "execution_count": 52,
     "metadata": {},
     "output_type": "execute_result"
    }
   ],
   "source": [
    "# 利用 lambda, map\n",
    "\n",
    "input_data = ({'name':'Timothy', \n",
    "                'id':1, \n",
    "                'email':'woodooo@yahoo.com.tw'}, \n",
    "               {'name': 'Ellna',\n",
    "                'id': 2,\n",
    "                'email': 'ellna332@gmail.com'})\n",
    "output_data = [('Timothy', 'woodooo@yahoo.com.tw'), \n",
    "               ('Ellna', 'ellna332@gmail.com')]\n",
    "\n",
    "#print(input_data[0]['name'])\n",
    "\n",
    "list(map(lambda x: (x['name'],x['email']),input_data))"
   ]
  },
  {
   "cell_type": "code",
   "execution_count": 9,
   "metadata": {},
   "outputs": [
    {
     "ename": "SyntaxError",
     "evalue": "unexpected EOF while parsing (<ipython-input-9-3d76d73c7d19>, line 9)",
     "output_type": "error",
     "traceback": [
      "\u001b[1;36m  File \u001b[1;32m\"<ipython-input-9-3d76d73c7d19>\"\u001b[1;36m, line \u001b[1;32m9\u001b[0m\n\u001b[1;33m    def pattern_match(pattern, sentence):\u001b[0m\n\u001b[1;37m                                         ^\u001b[0m\n\u001b[1;31mSyntaxError\u001b[0m\u001b[1;31m:\u001b[0m unexpected EOF while parsing\n"
     ]
    }
   ],
   "source": [
    "# 利用 lambda, map, enumerate\n",
    "pattern = 'abba'\n",
    "sentence = 'dog cat cat dog'\n",
    "# 判斷單字的組成是否跟 pattern的長相一致\n",
    "# sentence 內的單字皆是以空格分割\n",
    "re.findall('\\w+',setence)\n",
    "# 比較 pattern 組合跟 sentence 組合是否相同\n",
    "\n",
    "def pattern_match(pattern, sentence):"
   ]
  },
  {
   "cell_type": "code",
   "execution_count": 39,
   "metadata": {},
   "outputs": [
    {
     "name": "stdout",
     "output_type": "stream",
     "text": [
      "{'elephanet': 0}\n",
      "{'elephanet': 0, 'cat': 1}\n"
     ]
    },
    {
     "data": {
      "text/plain": [
       "True"
      ]
     },
     "execution_count": 39,
     "metadata": {},
     "output_type": "execute_result"
    }
   ],
   "source": [
    "import re\n",
    "pattern = 'abba'\n",
    "sentence = 'elephanet cat cat elephanet'\n",
    "def pattern_match(pattern, sentence):\n",
    "    test = {}\n",
    "    test_1 = []\n",
    "    for i,j in enumerate (pattern):\n",
    "        if j not in test:\n",
    "            test[j] = i\n",
    "            test_1.append(i)            \n",
    "        else:\n",
    "            test_1.append(test[j])\n",
    "    \n",
    "    \n",
    "    sentence_1 = re.findall('\\w+',sentence)\n",
    "    comparetest = {}\n",
    "    comparetest_1=[]\n",
    "    for k,l in enumerate(sentence_1):\n",
    "        if l not in comparetest:\n",
    "            comparetest[l] = k\n",
    "            comparetest_1.append(k)\n",
    "            print(comparetest)\n",
    "        else:\n",
    "            comparetest_1.append(comparetest[l])\n",
    "\n",
    "    if test_1 == comparetest_1:\n",
    "        return True\n",
    "    else:\n",
    "        return False\n",
    "\n",
    "    \n",
    "pattern_match(pattern, sentence)"
   ]
  },
  {
   "cell_type": "code",
   "execution_count": 62,
   "metadata": {},
   "outputs": [
    {
     "name": "stdout",
     "output_type": "stream",
     "text": [
      "[0, 1, 2, 0, 0, 1, 2, 0]\n",
      "pattern 組合跟 sentence 組合相同 ~\n"
     ]
    }
   ],
   "source": [
    "import re\n",
    "pattern = 'adba'\n",
    "sentence = 'elephanet pig cat elephanet'\n",
    "def pattern_match(pattern, sentence):\n",
    "    test = {}\n",
    "    test_1 = []\n",
    "    sentence = re.findall('\\w+',sentence)\n",
    "    compare_words = [pattern, sentence]\n",
    "    #print(compare_words)\n",
    "    for k in compare_words:\n",
    "        for i,j in enumerate (k):\n",
    "            if j not in test:\n",
    "                test[j] = i\n",
    "                test_1.append(i)            \n",
    "            else:\n",
    "                test_1.append(test[j])\n",
    "    print(test_1)\n",
    "    list_1 = test_1[0:4]\n",
    "    list_2 = test_1[4:]\n",
    "    if list_1 == list_2:\n",
    "        return print('pattern 組合跟 sentence 組合相同 ~')\n",
    "    else:\n",
    "        return print('pattern 組合跟 sentence 組合不同 ~')\n",
    "\n",
    "\n",
    "pattern_match(pattern, sentence)"
   ]
  },
  {
   "cell_type": "code",
   "execution_count": null,
   "metadata": {},
   "outputs": [],
   "source": [
    "cache = {}\n",
    "def climb_stairs(n):\n",
    "    if n in cache:\n",
    "        #print(cache[n])\n",
    "        return cache[n]\n",
    "    if n == 1:\n",
    "        None\n",
    "    if n == 2 or n == 3:\n",
    "        return n\n",
    "    result = climb_stairs(n-1) + climb_stairs(n-2)\n",
    "    cache[n] = result\n",
    "    #print(n, result)\n",
    "    return result\n",
    "\n",
    "climb_stairs(18)"
   ]
  },
  {
   "cell_type": "code",
   "execution_count": 53,
   "metadata": {
    "ExecuteTime": {
     "end_time": "2021-04-22T06:49:06.989809Z",
     "start_time": "2021-04-22T06:49:06.985525Z"
    }
   },
   "outputs": [
    {
     "name": "stdout",
     "output_type": "stream",
     "text": [
      "given a number6\n"
     ]
    },
    {
     "data": {
      "text/plain": [
       "720"
      ]
     },
     "execution_count": 53,
     "metadata": {},
     "output_type": "execute_result"
    }
   ],
   "source": [
    "# N!\n",
    "# 5! = 5 * 4 * 3 * 2 * 1\n",
    "n = int(input('given a number'))\n",
    "def factorial(n):\n",
    "    answer = 1\n",
    "    for i in range(1,n+1):\n",
    "        answer *= i\n",
    "    return answer\n",
    "factorial(n)\n",
    "        "
   ]
  }
 ],
 "metadata": {
  "kernelspec": {
   "display_name": "Python 3",
   "language": "python",
   "name": "python3"
  },
  "language_info": {
   "codemirror_mode": {
    "name": "ipython",
    "version": 3
   },
   "file_extension": ".py",
   "mimetype": "text/x-python",
   "name": "python",
   "nbconvert_exporter": "python",
   "pygments_lexer": "ipython3",
   "version": "3.8.8"
  },
  "toc": {
   "base_numbering": 1,
   "nav_menu": {},
   "number_sections": true,
   "sideBar": true,
   "skip_h1_title": false,
   "title_cell": "Table of Contents",
   "title_sidebar": "Contents",
   "toc_cell": false,
   "toc_position": {},
   "toc_section_display": true,
   "toc_window_display": false
  },
  "varInspector": {
   "cols": {
    "lenName": 16,
    "lenType": 16,
    "lenVar": 40
   },
   "kernels_config": {
    "python": {
     "delete_cmd_postfix": "",
     "delete_cmd_prefix": "del ",
     "library": "var_list.py",
     "varRefreshCmd": "print(var_dic_list())"
    },
    "r": {
     "delete_cmd_postfix": ") ",
     "delete_cmd_prefix": "rm(",
     "library": "var_list.r",
     "varRefreshCmd": "cat(var_dic_list()) "
    }
   },
   "types_to_exclude": [
    "module",
    "function",
    "builtin_function_or_method",
    "instance",
    "_Feature"
   ],
   "window_display": false
  }
 },
 "nbformat": 4,
 "nbformat_minor": 2
}
